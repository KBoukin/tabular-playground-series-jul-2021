{
 "cells": [
  {
   "cell_type": "code",
   "execution_count": null,
   "metadata": {},
   "outputs": [],
   "source": [
    "import numpy as np # linear algebra\n",
    "import pandas as pd # data processing, CSV file I/O (e.g. pd.read_csv)\n",
    "import matplotlib.pyplot as plt\n",
    "import seaborn as sns\n",
    "from sklearn.linear_model import LinearRegression,LogisticRegression\n",
    "from sklearn.metrics import mean_squared_log_error\n",
    "from sklearn.model_selection import train_test_split\n",
    "from sklearn.ensemble import RandomForestRegressor, GradientBoostingRegressor\n",
    "from xgboost import XGBRegressor\n",
    "from sklearn.decomposition import PCA\n",
    "import os\n",
    "for dirname, _, filenames in os.walk('/kaggle/input'):\n",
    "    for filename in filenames:\n",
    "        print(os.path.join(dirname, filename))"
   ]
  },
  {
   "cell_type": "code",
   "execution_count": null,
   "metadata": {},
   "outputs": [],
   "source": [
    "train = pd.read_csv(\"train.csv\")\n",
    "train.head()"
   ]
  },
  {
   "cell_type": "code",
   "execution_count": null,
   "metadata": {},
   "outputs": [],
   "source": [
    "test = pd.read_csv(\"/kaggle/input/tabular-playground-series-jul-2021/test.csv\")\n",
    "test.head()"
   ]
  },
  {
   "cell_type": "code",
   "execution_count": null,
   "metadata": {},
   "outputs": [],
   "source": [
    "train.describe()"
   ]
  },
  {
   "cell_type": "code",
   "execution_count": null,
   "metadata": {},
   "outputs": [],
   "source": [
    "def shift_feature(df):\n",
    "    shift_features = [\"deg_C\", \"absolute_humidity\", \"relative_humidity\",\n",
    "                      \"sensor_1\", \"sensor_2\", \"sensor_3\", \"sensor_4\", \"sensor_5\"]\n",
    "    # Amounts of hour shifts and lags\n",
    "    shifts = [1, 3]\n",
    "    \n",
    "    for feature in shift_features:\n",
    "        for shift in shifts:\n",
    "            df[feature+\"-\"+str(shift)+\"abs_shfit\"] = df[feature] - df[feature].shift(periods=shift, fill_value=0)\n",
    "            df[feature+\"+\"+str(shift)+\"abs_shfit\"] = df[feature] - df[feature].shift(periods=-shift, fill_value=0)\n",
    "            df[feature+\"-\"+str(shift)+\"prc_shfit\"] = (df[feature] / df[feature].shift(periods=shift, fill_value=0)) - 1\n",
    "            df[feature+\"+\"+str(shift)+\"prc_shfit\"] = (df[feature] / df[feature].shift(periods=-shift, fill_value=0)) - 1\n",
    "\n",
    "    # Replacing infinity values as a result of devision by zero at the end of a dataset\n",
    "    df.replace(to_replace=np.inf, value=0, inplace=True)\n",
    "    return df.drop(\"hour\", axis=1)"
   ]
  },
  {
   "cell_type": "code",
   "execution_count": null,
   "metadata": {},
   "outputs": [],
   "source": [
    "def month(x):\n",
    "    return int(x[5:7])\n",
    "def hour(x):\n",
    "    return int(x[11:13])\n",
    "train['month'] = train['date_time'].apply(month)\n",
    "train['hour'] = train['date_time'].apply(hour)\n",
    "train[\"is_winter\"] = train[\"month\"].isin([1, 2, 12]).astype(\"int\")\n",
    "train[\"is_spring\"] = train[\"month\"].isin([3, 4, 5]).astype(\"int\")\n",
    "train[\"is_summer\"] = train[\"month\"].isin([6, 7, 8]).astype(\"int\")\n",
    "train[\"is_autumn\"] = train[\"month\"].isin([9, 10, 11]).astype(\"int\")\n",
    "train[\"working_hours\"] =  train[\"hour\"].isin(np.arange(8, 21, 1)).astype(\"int\")\n",
    "#train[\"maximum_hours\"] =  train[\"hour\"].isin([8, 9, 17, 18, 19, 20]).astype(\"int\")\n",
    "train['SMC'] = (train['absolute_humidity'] * 100) / train['relative_humidity']\n",
    "train['Dew_Point'] = 243.12*(np.log(train['relative_humidity'] * 0.01) + (17.62 * train['deg_C'])/\n",
    "                                (243.12+train['deg_C']))/(17.62-(np.log(train['relative_humidity'] * 0.01)\n",
    "                                                                    +17.62*train['deg_C']/(243.12+train['deg_C'])))\n",
    "train[\"is_weekend\"] = (train[\"date_time\"].apply(pd.to_datetime).dt.dayofweek >= 5).astype(\"int\")\n",
    "train[\"date_time\"] = pd.to_datetime(train[\"date_time\"], format=\"%Y-%m-%d %H:%M:%S\")\n",
    "#train = shift_feature(train)\n",
    "#train.head()"
   ]
  },
  {
   "cell_type": "code",
   "execution_count": null,
   "metadata": {},
   "outputs": [],
   "source": [
    "#train['week'] = train['date_time'].dt.weekofyear"
   ]
  },
  {
   "cell_type": "code",
   "execution_count": null,
   "metadata": {},
   "outputs": [],
   "source": [
    "sns.heatmap(train.corr(),cmap = 'Accent_r')"
   ]
  },
  {
   "cell_type": "code",
   "execution_count": null,
   "metadata": {},
   "outputs": [],
   "source": [
    "sns.distplot(train['target_carbon_monoxide'])\n",
    "plt.show()\n",
    "sns.distplot(np.log1p(train['target_carbon_monoxide']))\n",
    "plt.show()"
   ]
  },
  {
   "cell_type": "code",
   "execution_count": null,
   "metadata": {},
   "outputs": [],
   "source": [
    "test['month'] = test['date_time'].apply(month)\n",
    "test['hour'] = test['date_time'].apply(hour)\n",
    "test[\"is_winter\"] = test[\"month\"].isin([1, 2, 12]).astype(\"int\")\n",
    "test[\"is_spring\"] = test[\"month\"].isin([3, 4, 5]).astype(\"int\")\n",
    "test[\"is_summer\"] = test[\"month\"].isin([6, 7, 8]).astype(\"int\")\n",
    "test[\"is_autumn\"] = test[\"month\"].isin([9, 10, 11]).astype(\"int\")\n",
    "test[\"working_hours\"] =  test[\"hour\"].isin(np.arange(8, 21, 1)).astype(\"int\")\n",
    "test[\"is_weekend\"] = (test[\"date_time\"].apply(pd.to_datetime).dt.dayofweek >= 5).astype(\"int\")\n",
    "test['SMC'] = (test['absolute_humidity'] * 100) / test['relative_humidity']\n",
    "test['Dew_Point'] = 243.12*(np.log(test['relative_humidity'] * 0.01) + (17.62 * test['deg_C'])/\n",
    "                                (243.12+test['deg_C']))/(17.62-(np.log(test['relative_humidity'] * 0.01)\n",
    "                                                                    +17.62*test['deg_C']/(243.12+test['deg_C'])))\n",
    "#test[\"maximum_hours\"] =  test[\"hour\"].isin([8, 9, 17, 18, 19, 20]).astype(\"int\")\n",
    "test[\"date_time\"] = pd.to_datetime(test[\"date_time\"], format=\"%Y-%m-%d %H:%M:%S\")\n",
    "#test['week'] = test['date_time'].dt.weekofyear\n",
    "#test = shift_feature(test)\n",
    "test_dt = test['date_time']\n",
    "test.head()"
   ]
  },
  {
   "cell_type": "code",
   "execution_count": null,
   "metadata": {},
   "outputs": [],
   "source": [
    "test.shape"
   ]
  },
  {
   "cell_type": "code",
   "execution_count": null,
   "metadata": {},
   "outputs": [],
   "source": [
    "Xtrain = train.drop([\"date_time\", 'target_carbon_monoxide', 'target_benzene', \n",
    "                     'target_nitrogen_oxides'], axis = 1)\n",
    "y_co = np.log1p(train['target_carbon_monoxide'])\n",
    "y_be = np.log1p(train['target_benzene'])\n",
    "y_no = np.log1p(train['target_nitrogen_oxides'])\n",
    "Xtrain"
   ]
  },
  {
   "cell_type": "code",
   "execution_count": null,
   "metadata": {},
   "outputs": [],
   "source": [
    "from sklearn.preprocessing import StandardScaler\n",
    "ss = StandardScaler()\n",
    "ss.fit(Xtrain)\n",
    "Xtrain1 = ss.transform(Xtrain)"
   ]
  },
  {
   "cell_type": "code",
   "execution_count": null,
   "metadata": {},
   "outputs": [],
   "source": [
    "X_train, X_test, y_train_co, y_test_co = train_test_split(Xtrain1, \n",
    "                                                          y_co, test_size=0.33, random_state=44)\n",
    "\n",
    "model_co = XGBRegressor(n_estimators=75,random_state=44)\n",
    "model_co.fit(X_train,y_train_co)\n",
    "\n",
    "pred = model_co.predict(X_test)\n",
    "np.sqrt(mean_squared_log_error(y_test_co,pred))"
   ]
  },
  {
   "attachments": {},
   "cell_type": "markdown",
   "metadata": {},
   "source": [
    "#Carbon Monoxide"
   ]
  },
  {
   "cell_type": "code",
   "execution_count": null,
   "metadata": {},
   "outputs": [],
   "source": [
    "from sklearn.model_selection import GridSearchCV\n",
    "params = {'n_estimators' : [50, 75, 100, 125, 150]}\n",
    "grid = GridSearchCV(XGBRegressor(random_state=44),params, verbose = 1)\n",
    "grid.fit(X_train, y_train_co)"
   ]
  },
  {
   "cell_type": "code",
   "execution_count": null,
   "metadata": {},
   "outputs": [],
   "source": [
    "grid.best_params_\n",
    "pred = grid.predict(X_test)\n",
    "np.sqrt(mean_squared_log_error(y_test_co,pred))"
   ]
  },
  {
   "attachments": {},
   "cell_type": "markdown",
   "metadata": {},
   "source": [
    "#Benzine"
   ]
  },
  {
   "cell_type": "code",
   "execution_count": null,
   "metadata": {},
   "outputs": [],
   "source": [
    "X_train, X_test, y_train_be, y_test_be = train_test_split(Xtrain1, \n",
    "                                                          y_be, test_size=0.33, random_state=44)\n",
    "\n",
    "model_be = RandomForestRegressor(random_state=44)\n",
    "model_be.fit(X_train,y_train_be)\n",
    "\n",
    "pred = model_be.predict(X_test)\n",
    "np.sqrt(mean_squared_log_error(y_test_be,pred))"
   ]
  },
  {
   "attachments": {},
   "cell_type": "markdown",
   "metadata": {},
   "source": [
    "#Nitrogen Oxide"
   ]
  },
  {
   "cell_type": "code",
   "execution_count": null,
   "metadata": {},
   "outputs": [],
   "source": [
    "Xtrain2 = pd.concat([Xtrain, train['target_carbon_monoxide'],train['date_time'].dt.weekofyear],axis = 1)\n",
    "Xtrain2.head()\n",
    "ss2 = StandardScaler()\n",
    "ss2.fit(Xtrain2)\n",
    "Xtrain2 = ss2.transform(Xtrain2)"
   ]
  },
  {
   "cell_type": "code",
   "execution_count": null,
   "metadata": {},
   "outputs": [],
   "source": [
    "X_train, X_test, y_train_no, y_test_no = train_test_split(Xtrain2, \n",
    "                                                          y_no, test_size=0.33, random_state=44)\n",
    "\n",
    "model_no = GradientBoostingRegressor(random_state=44)\n",
    "model_no.fit(X_train,y_train_no)\n",
    "\n",
    "pred = model_no.predict(X_test)\n",
    "for i in range(len(pred)):\n",
    "    if pred[i] < 0:\n",
    "        pred[i] = 0\n",
    "np.sqrt(mean_squared_log_error(y_test_no,pred))"
   ]
  },
  {
   "cell_type": "code",
   "execution_count": null,
   "metadata": {},
   "outputs": [],
   "source": [
    "test1 = test.drop(['date_time'], axis = 1)\n",
    "test1 = ss.transform(test1)\n",
    "pred_co = model_co.predict(test1)\n",
    "pred_be = model_be.predict(test1)"
   ]
  },
  {
   "cell_type": "code",
   "execution_count": null,
   "metadata": {},
   "outputs": [],
   "source": [
    "test2 = pd.concat([test.drop(['date_time'], axis = 1),test['date_time'].dt.weekofyear, pd.Series(pred_co)],axis = 1)\n",
    "test2 = ss2.transform(test2)\n",
    "pred_no = model_no.predict(test2)"
   ]
  },
  {
   "attachments": {},
   "cell_type": "markdown",
   "metadata": {},
   "source": [
    "#Inverse Transform"
   ]
  },
  {
   "cell_type": "code",
   "execution_count": null,
   "metadata": {},
   "outputs": [],
   "source": [
    "pred_co_f = np.exp(pred_co)-1\n",
    "pred_be_f = np.exp(pred_be)-1\n",
    "pred_no_f = np.exp(pred_no)-1"
   ]
  },
  {
   "cell_type": "code",
   "execution_count": null,
   "metadata": {},
   "outputs": [],
   "source": [
    "df = pd.DataFrame(test_dt)\n",
    "df['target_carbon_monoxide'] = pred_co_f\n",
    "df['target_benzene'] = pred_be_f\n",
    "df['target_nitrogen_oxides'] = pred_no_f\n",
    "df"
   ]
  }
 ],
 "metadata": {
  "kernelspec": {
   "display_name": "Python 3",
   "language": "python",
   "name": "python3"
  },
  "language_info": {
   "name": "python",
   "version": "3.9.0"
  },
  "orig_nbformat": 4,
  "vscode": {
   "interpreter": {
    "hash": "949777d72b0d2535278d3dc13498b2535136f6dfe0678499012e853ee9abcab1"
   }
  }
 },
 "nbformat": 4,
 "nbformat_minor": 2
}

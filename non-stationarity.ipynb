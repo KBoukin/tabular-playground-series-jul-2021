{
 "cells": [
  {
   "attachments": {},
   "cell_type": "markdown",
   "metadata": {},
   "source": [
    "# Detect non-stationarity\n",
    "### Test for the null-hypothesis - it is non-stationary"
   ]
  },
  {
   "cell_type": "code",
   "execution_count": null,
   "metadata": {},
   "outputs": [],
   "source": [
    "import seaborn as sns\n",
    "from statsmodels.tsa.stattools import adfuller\n",
    "\n",
    "diamonds = sns.load_dataset(\"diamonds\")\n",
    "\n",
    "test_results = adfuller(diamonds[\"price\"])\n",
    "\n",
    "print(f\"ADF test statistic: {test_results[0]}\")\n",
    "print(f\"p-value: {test_results[1]}\")\n",
    "print(\"Critical thresholds:\")\n",
    "for key, value in test_results[4].items():\n",
    "    print(f\"\\t{key}: {value}\")"
   ]
  },
  {
   "cell_type": "code",
   "execution_count": null,
   "metadata": {},
   "outputs": [],
   "source": [
    "tps_july = pd.read_csv(\n",
    "    \"train.csv\", parse_dates=[\"date_time\"], index_col=\"date_time\"\n",
    ")\n",
    "\n",
    "test_results = adfuller(tps_july[\"target_carbon_monoxide\"])\n",
    "\n",
    "test_results[1]"
   ]
  },
  {
   "attachments": {},
   "cell_type": "markdown",
   "metadata": {},
   "source": [
    "# Load stock price data"
   ]
  },
  {
   "cell_type": "code",
   "execution_count": null,
   "metadata": {},
   "outputs": [],
   "source": [
    "amzn = pd.read_csv(\n",
    "    \"https://raw.githubusercontent.com/BexTuychiev/medium_stories/master/2021/july/6_stationarity_ts/data/AMZN.csv\",\n",
    "    parse_dates=[\"Date\"],\n",
    "    index_col=\"Date\",\n",
    ")\n",
    "\n",
    "amzn.plot(figsize=(14, 4));"
   ]
  }
 ],
 "metadata": {
  "kernelspec": {
   "display_name": "Python 3",
   "language": "python",
   "name": "python3"
  },
  "language_info": {
   "name": "python",
   "version": "3.9.0"
  },
  "orig_nbformat": 4,
  "vscode": {
   "interpreter": {
    "hash": "949777d72b0d2535278d3dc13498b2535136f6dfe0678499012e853ee9abcab1"
   }
  }
 },
 "nbformat": 4,
 "nbformat_minor": 2
}
